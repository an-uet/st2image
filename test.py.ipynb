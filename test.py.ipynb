{
 "cells": [
  {
   "cell_type": "code",
   "execution_count": null,
   "id": "initial_id",
   "metadata": {
    "ExecuteTime": {
     "end_time": "2024-05-11T08:04:30.595873Z",
     "start_time": "2024-05-11T08:04:30.166409Z"
    },
    "collapsed": true
   },
   "outputs": [],
   "source": [
    "import numpy as np\n",
    "import pandas as pd"
   ]
  },
  {
   "cell_type": "code",
   "execution_count": 14,
   "id": "a0eafd3e8dfc6b26",
   "metadata": {
    "ExecuteTime": {
     "end_time": "2024-05-11T08:04:30.602567Z",
     "start_time": "2024-05-11T08:04:30.597242Z"
    }
   },
   "outputs": [],
   "source": [
    "def get_gene(df, genes):\n",
    "    # Extract column names from the DataFrame\n",
    "    existing_columns = df.columns\n",
    "    \n",
    "    # Specify the desired columns\n",
    "    desired_columns = genes\n",
    "    \n",
    "    # Find missing columns\n",
    "    missing_columns = [col for col in desired_columns if col not in existing_columns]\n",
    "    # print(missing_columns)\n",
    "    # Fill missing columns with 0\n",
    "    for col in missing_columns:\n",
    "        df[col] = 0\n",
    "    df = df[desired_columns]\n",
    "    print('ok')\n",
    "    return df"
   ]
  },
  {
   "cell_type": "code",
   "execution_count": null,
   "id": "16b737be506b802c",
   "metadata": {
    "ExecuteTime": {
     "end_time": "2024-05-11T08:06:11.230439Z",
     "start_time": "2024-05-11T08:05:00.687051Z"
    }
   },
   "outputs": [],
   "source": [
    "cnts_directory = 'st2image/data/ST-cnts/'\n",
    "files = ['A', 'B', 'C', 'D', 'E', 'F', 'G', 'H']\n",
    "genes = []\n",
    "for patient in files:\n",
    "    if patient in ('A', 'B', 'C', 'D'):\n",
    "        for i in range(1, 7):\n",
    "            cnts_file = cnts_directory + f\"{patient}{i}.tsv/\" + f'ut_{patient}{i}_stdata_filtered.tsv'\n",
    "            print(cnts_file)\n",
    "            df = pd.read_csv(cnts_file, delimiter='\\t')\n",
    "            genes += df.columns.tolist()\n",
    "    else:\n",
    "        for i in range(1, 4):\n",
    "            cnts_file = cnts_directory + f\"{patient}{i}.tsv/\" + f'ut_{patient}{i}_stdata_filtered.tsv'\n",
    "            print(cnts_file)\n",
    "            df = pd.read_csv(cnts_file, delimiter='\\t')\n",
    "            genes += df.columns.tolist()\n",
    "genes = list(set(genes))"
   ]
  },
  {
   "cell_type": "code",
   "execution_count": 13,
   "id": "31dd0742",
   "metadata": {},
   "outputs": [
    {
     "data": {
      "text/plain": [
       "18759"
      ]
     },
     "execution_count": 13,
     "metadata": {},
     "output_type": "execute_result"
    }
   ],
   "source": [
    "len(genes)"
   ]
  },
  {
   "cell_type": "code",
   "execution_count": null,
   "id": "daad86546ee2115b",
   "metadata": {
    "ExecuteTime": {
     "end_time": "2024-05-11T08:07:07.122875Z",
     "start_time": "2024-05-11T08:07:07.119069Z"
    }
   },
   "outputs": [],
   "source": [
    "cnts_df_gene = genes + ['Unnamed: 0', 'patient']\n",
    "cnts_df_gene[-1]"
   ]
  },
  {
   "cell_type": "code",
   "execution_count": 19,
   "id": "5d093e35531ebd8e",
   "metadata": {
    "ExecuteTime": {
     "end_time": "2024-05-11T08:09:04.752072Z",
     "start_time": "2024-05-11T08:09:03.401505Z"
    }
   },
   "outputs": [
    {
     "name": "stdout",
     "output_type": "stream",
     "text": [
      "st2image/data/ST-cnts/A1.tsv/ut_A1_stdata_filtered.tsv\n",
      "ok\n",
      "st2image/data/ST-cnts/A2.tsv/ut_A2_stdata_filtered.tsv\n",
      "ok\n",
      "st2image/data/ST-cnts/A3.tsv/ut_A3_stdata_filtered.tsv\n",
      "ok\n",
      "st2image/data/ST-cnts/A4.tsv/ut_A4_stdata_filtered.tsv\n",
      "ok\n",
      "st2image/data/ST-cnts/A5.tsv/ut_A5_stdata_filtered.tsv\n",
      "ok\n",
      "st2image/data/ST-cnts/A6.tsv/ut_A6_stdata_filtered.tsv\n",
      "ok\n",
      "st2image/data/ST-cnts/B1.tsv/ut_B1_stdata_filtered.tsv\n",
      "ok\n",
      "st2image/data/ST-cnts/B2.tsv/ut_B2_stdata_filtered.tsv\n",
      "ok\n",
      "st2image/data/ST-cnts/B3.tsv/ut_B3_stdata_filtered.tsv\n",
      "ok\n",
      "st2image/data/ST-cnts/B4.tsv/ut_B4_stdata_filtered.tsv\n",
      "ok\n",
      "st2image/data/ST-cnts/B5.tsv/ut_B5_stdata_filtered.tsv\n",
      "ok\n",
      "st2image/data/ST-cnts/B6.tsv/ut_B6_stdata_filtered.tsv\n",
      "ok\n",
      "st2image/data/ST-cnts/C1.tsv/ut_C1_stdata_filtered.tsv\n",
      "ok\n",
      "st2image/data/ST-cnts/C2.tsv/ut_C2_stdata_filtered.tsv\n",
      "ok\n",
      "st2image/data/ST-cnts/C3.tsv/ut_C3_stdata_filtered.tsv\n",
      "ok\n",
      "st2image/data/ST-cnts/C4.tsv/ut_C4_stdata_filtered.tsv\n",
      "ok\n",
      "st2image/data/ST-cnts/C5.tsv/ut_C5_stdata_filtered.tsv\n",
      "ok\n",
      "st2image/data/ST-cnts/C6.tsv/ut_C6_stdata_filtered.tsv\n",
      "ok\n",
      "st2image/data/ST-cnts/D1.tsv/ut_D1_stdata_filtered.tsv\n",
      "ok\n",
      "st2image/data/ST-cnts/D2.tsv/ut_D2_stdata_filtered.tsv\n",
      "ok\n",
      "st2image/data/ST-cnts/D3.tsv/ut_D3_stdata_filtered.tsv\n",
      "ok\n",
      "st2image/data/ST-cnts/D4.tsv/ut_D4_stdata_filtered.tsv\n",
      "ok\n",
      "st2image/data/ST-cnts/D5.tsv/ut_D5_stdata_filtered.tsv\n",
      "ok\n",
      "st2image/data/ST-cnts/D6.tsv/ut_D6_stdata_filtered.tsv\n",
      "ok\n",
      "st2image/data/ST-cnts/E1.tsv/ut_E1_stdata_filtered.tsv\n",
      "ok\n",
      "st2image/data/ST-cnts/E2.tsv/ut_E2_stdata_filtered.tsv\n",
      "ok\n",
      "st2image/data/ST-cnts/E3.tsv/ut_E3_stdata_filtered.tsv\n",
      "ok\n",
      "st2image/data/ST-cnts/F1.tsv/ut_F1_stdata_filtered.tsv\n",
      "ok\n",
      "st2image/data/ST-cnts/F2.tsv/ut_F2_stdata_filtered.tsv\n",
      "ok\n",
      "st2image/data/ST-cnts/F3.tsv/ut_F3_stdata_filtered.tsv\n",
      "ok\n",
      "st2image/data/ST-cnts/G1.tsv/ut_G1_stdata_filtered.tsv\n",
      "ok\n",
      "st2image/data/ST-cnts/G2.tsv/ut_G2_stdata_filtered.tsv\n",
      "ok\n",
      "st2image/data/ST-cnts/G3.tsv/ut_G3_stdata_filtered.tsv\n",
      "ok\n",
      "st2image/data/ST-cnts/H1.tsv/ut_H1_stdata_filtered.tsv\n",
      "ok\n",
      "st2image/data/ST-cnts/H2.tsv/ut_H2_stdata_filtered.tsv\n",
      "ok\n",
      "st2image/data/ST-cnts/H3.tsv/ut_H3_stdata_filtered.tsv\n",
      "ok\n"
     ]
    }
   ],
   "source": [
    "import pandas as pd\n",
    "import warnings\n",
    "\n",
    "warnings.simplefilter(action='ignore', category=pd.errors.PerformanceWarning)\n",
    "\n",
    "cnts_directory = 'st2image/data/ST-cnts/'\n",
    "files = ['A', 'B', 'C', 'D', 'E', 'F', 'G', 'H']\n",
    "# cnts_df_gene = genes + ['patient']\n",
    "cnts_df = pd.DataFrame(columns=cnts_df_gene)\n",
    "genes_df = pd.DataFrame(columns=genes)\n",
    "for patient in files:\n",
    "    if patient in ('A', 'B', 'C', 'D'):\n",
    "        for i in range(1, 7):\n",
    "            file_name = ''\n",
    "            cnts_file = cnts_directory + f\"{patient}{i}.tsv/\" + f'ut_{patient}{i}_stdata_filtered.tsv'\n",
    "            sub_folder_path = f\"ST-imgs-split/{patient}/{patient}{i}\"\n",
    "            print(cnts_file)\n",
    "            df = pd.read_csv(cnts_file, delimiter='\\t')\n",
    "            df['patient'] = patient\n",
    "            # print(df.shape, len(df.columns.tolist()), len(cnts_df_gene))\n",
    "            df_1 = get_gene(df, cnts_df_gene)\n",
    "            cnts_df = pd.concat([cnts_df, df_1])\n",
    "            # genes_df = pd.concat([genes_df, df_2])\n",
    "    else:\n",
    "        for i in range(1, 4):\n",
    "            cnts_file = cnts_directory + f\"{patient}{i}.tsv/\" + f'ut_{patient}{i}_stdata_filtered.tsv'\n",
    "            sub_folder_path = f\"ST-imgs-split/{patient}/{patient}{i}\"\n",
    "            print(cnts_file)\n",
    "            df = pd.read_csv(cnts_file, delimiter='\\t')\n",
    "            # print(df.shape, len(df.columns.tolist()), len(cnts_df_gene))\n",
    "            df_1 = get_gene(df, cnts_df_gene)\n",
    "            # df_2 = get_gene(df, genes)\n",
    "            cnts_df = pd.concat([cnts_df, df_1])\n",
    "            # genes_df = pd.concat([genes_df, df_2])\n",
    "cnts_df.to_csv('st2image/full_gene_expression.csv', index=False)"
   ]
  },
  {
   "cell_type": "code",
   "execution_count": 23,
   "id": "fc55dae3",
   "metadata": {},
   "outputs": [
    {
     "data": {
      "text/html": [
       "<div>\n",
       "<style scoped>\n",
       "    .dataframe tbody tr th:only-of-type {\n",
       "        vertical-align: middle;\n",
       "    }\n",
       "\n",
       "    .dataframe tbody tr th {\n",
       "        vertical-align: top;\n",
       "    }\n",
       "\n",
       "    .dataframe thead th {\n",
       "        text-align: right;\n",
       "    }\n",
       "</style>\n",
       "<table border=\"1\" class=\"dataframe\">\n",
       "  <thead>\n",
       "    <tr style=\"text-align: right;\">\n",
       "      <th></th>\n",
       "      <th>PRSS42</th>\n",
       "      <th>TAGLN</th>\n",
       "      <th>CRTAC1</th>\n",
       "      <th>RDH11</th>\n",
       "      <th>FGG</th>\n",
       "      <th>CCNF</th>\n",
       "      <th>CXCR6</th>\n",
       "      <th>GATAD1</th>\n",
       "      <th>PRMT2</th>\n",
       "      <th>OR5K4</th>\n",
       "      <th>...</th>\n",
       "      <th>ARHGEF33</th>\n",
       "      <th>DDX47</th>\n",
       "      <th>RBMXL3</th>\n",
       "      <th>SYCP3</th>\n",
       "      <th>ALB</th>\n",
       "      <th>NME6</th>\n",
       "      <th>OTULIN</th>\n",
       "      <th>TCTE3</th>\n",
       "      <th>ADGRF3</th>\n",
       "      <th>EIF5AL1</th>\n",
       "    </tr>\n",
       "  </thead>\n",
       "  <tbody>\n",
       "    <tr>\n",
       "      <th>0</th>\n",
       "      <td>0</td>\n",
       "      <td>2</td>\n",
       "      <td>0</td>\n",
       "      <td>0</td>\n",
       "      <td>0</td>\n",
       "      <td>0</td>\n",
       "      <td>0</td>\n",
       "      <td>1</td>\n",
       "      <td>0</td>\n",
       "      <td>0</td>\n",
       "      <td>...</td>\n",
       "      <td>0</td>\n",
       "      <td>0</td>\n",
       "      <td>0</td>\n",
       "      <td>0</td>\n",
       "      <td>0</td>\n",
       "      <td>0</td>\n",
       "      <td>0</td>\n",
       "      <td>0</td>\n",
       "      <td>0</td>\n",
       "      <td>0</td>\n",
       "    </tr>\n",
       "    <tr>\n",
       "      <th>1</th>\n",
       "      <td>0</td>\n",
       "      <td>2</td>\n",
       "      <td>0</td>\n",
       "      <td>0</td>\n",
       "      <td>0</td>\n",
       "      <td>0</td>\n",
       "      <td>0</td>\n",
       "      <td>0</td>\n",
       "      <td>0</td>\n",
       "      <td>0</td>\n",
       "      <td>...</td>\n",
       "      <td>0</td>\n",
       "      <td>0</td>\n",
       "      <td>0</td>\n",
       "      <td>1</td>\n",
       "      <td>0</td>\n",
       "      <td>0</td>\n",
       "      <td>0</td>\n",
       "      <td>0</td>\n",
       "      <td>0</td>\n",
       "      <td>0</td>\n",
       "    </tr>\n",
       "    <tr>\n",
       "      <th>2</th>\n",
       "      <td>0</td>\n",
       "      <td>0</td>\n",
       "      <td>0</td>\n",
       "      <td>0</td>\n",
       "      <td>0</td>\n",
       "      <td>0</td>\n",
       "      <td>0</td>\n",
       "      <td>0</td>\n",
       "      <td>3</td>\n",
       "      <td>0</td>\n",
       "      <td>...</td>\n",
       "      <td>0</td>\n",
       "      <td>0</td>\n",
       "      <td>0</td>\n",
       "      <td>0</td>\n",
       "      <td>0</td>\n",
       "      <td>0</td>\n",
       "      <td>0</td>\n",
       "      <td>0</td>\n",
       "      <td>0</td>\n",
       "      <td>0</td>\n",
       "    </tr>\n",
       "    <tr>\n",
       "      <th>3</th>\n",
       "      <td>0</td>\n",
       "      <td>1</td>\n",
       "      <td>0</td>\n",
       "      <td>0</td>\n",
       "      <td>0</td>\n",
       "      <td>0</td>\n",
       "      <td>0</td>\n",
       "      <td>0</td>\n",
       "      <td>0</td>\n",
       "      <td>0</td>\n",
       "      <td>...</td>\n",
       "      <td>0</td>\n",
       "      <td>0</td>\n",
       "      <td>0</td>\n",
       "      <td>0</td>\n",
       "      <td>0</td>\n",
       "      <td>0</td>\n",
       "      <td>0</td>\n",
       "      <td>0</td>\n",
       "      <td>0</td>\n",
       "      <td>0</td>\n",
       "    </tr>\n",
       "    <tr>\n",
       "      <th>4</th>\n",
       "      <td>0</td>\n",
       "      <td>0</td>\n",
       "      <td>0</td>\n",
       "      <td>0</td>\n",
       "      <td>0</td>\n",
       "      <td>0</td>\n",
       "      <td>0</td>\n",
       "      <td>0</td>\n",
       "      <td>0</td>\n",
       "      <td>0</td>\n",
       "      <td>...</td>\n",
       "      <td>0</td>\n",
       "      <td>0</td>\n",
       "      <td>0</td>\n",
       "      <td>0</td>\n",
       "      <td>0</td>\n",
       "      <td>0</td>\n",
       "      <td>0</td>\n",
       "      <td>0</td>\n",
       "      <td>0</td>\n",
       "      <td>0</td>\n",
       "    </tr>\n",
       "  </tbody>\n",
       "</table>\n",
       "<p>5 rows × 18758 columns</p>\n",
       "</div>"
      ],
      "text/plain": [
       "  PRSS42 TAGLN CRTAC1 RDH11 FGG CCNF CXCR6 GATAD1 PRMT2 OR5K4  ... ARHGEF33  \\\n",
       "0      0     2      0     0   0    0     0      1     0     0  ...        0   \n",
       "1      0     2      0     0   0    0     0      0     0     0  ...        0   \n",
       "2      0     0      0     0   0    0     0      0     3     0  ...        0   \n",
       "3      0     1      0     0   0    0     0      0     0     0  ...        0   \n",
       "4      0     0      0     0   0    0     0      0     0     0  ...        0   \n",
       "\n",
       "  DDX47 RBMXL3 SYCP3 ALB NME6 OTULIN TCTE3 ADGRF3 EIF5AL1  \n",
       "0     0      0     0   0    0      0     0      0       0  \n",
       "1     0      0     1   0    0      0     0      0       0  \n",
       "2     0      0     0   0    0      0     0      0       0  \n",
       "3     0      0     0   0    0      0     0      0       0  \n",
       "4     0      0     0   0    0      0     0      0       0  \n",
       "\n",
       "[5 rows x 18758 columns]"
      ]
     },
     "execution_count": 23,
     "metadata": {},
     "output_type": "execute_result"
    }
   ],
   "source": [
    "df = cnts_df.copy()\n",
    "df = df.drop(columns=['Unnamed: 0', 'patient'])\n",
    "df.head()"
   ]
  },
  {
   "cell_type": "code",
   "execution_count": 31,
   "id": "fe7f4de6",
   "metadata": {},
   "outputs": [],
   "source": [
    "import pandas as pd\n",
    "\n",
    "count_greater_than_zero = df.apply(lambda x: (x > 0).sum()).sort_values(ascending=False)\n",
    "\n",
    "# Create a DataFrame with columns 'gene' and 'count'\n",
    "count_df = pd.DataFrame({'gene': count_greater_than_zero.index, 'count': count_greater_than_zero})\n",
    "\n",
    "count_df.to_csv('st2image/data/gene_expression/gene_count.csv', index=False)"
   ]
  },
  {
   "cell_type": "code",
   "execution_count": 45,
   "id": "a19723c1",
   "metadata": {},
   "outputs": [],
   "source": [
    "# cal quantile_85\n",
    "quantile_85 = np.percentile(count_df['count'].values, 85)\n",
    "tmp_count_df = count_df[count_df['count'] > quantile_85]\n",
    "list_gene = tmp_count_df['gene'].values.tolist()"
   ]
  },
  {
   "cell_type": "code",
   "execution_count": 51,
   "id": "45c50b0b",
   "metadata": {},
   "outputs": [
    {
     "name": "stdout",
     "output_type": "stream",
     "text": [
      "finding top max var genes.....\n"
     ]
    },
    {
     "name": "stderr",
     "output_type": "stream",
     "text": [
      "/tmp/ipykernel_25285/1969826563.py:5: DtypeWarning: Columns (18760) have mixed types. Specify dtype option on import or set low_memory=False.\n",
      "  df = pd.read_csv('st2image/full_gene_expression.csv')\n"
     ]
    },
    {
     "name": "stdout",
     "output_type": "stream",
     "text": [
      "find top max var gene done!\n",
      "st2image/data/ST-cnts/A1.tsv/ut_A1_stdata_filtered.tsv\n",
      "normalize gene count......\n",
      "normalize gene count done!\n"
     ]
    },
    {
     "name": "stderr",
     "output_type": "stream",
     "text": [
      "346it [00:00, 1679.58it/s]\n"
     ]
    },
    {
     "name": "stdout",
     "output_type": "stream",
     "text": [
      "st2image/data/ST-cnts/A2.tsv/ut_A2_stdata_filtered.tsv\n",
      "normalize gene count......\n",
      "normalize gene count done!\n"
     ]
    },
    {
     "name": "stderr",
     "output_type": "stream",
     "text": [
      "325it [00:00, 1638.91it/s]\n"
     ]
    },
    {
     "name": "stdout",
     "output_type": "stream",
     "text": [
      "st2image/data/ST-cnts/A3.tsv/ut_A3_stdata_filtered.tsv\n",
      "normalize gene count......\n",
      "normalize gene count done!\n"
     ]
    },
    {
     "name": "stderr",
     "output_type": "stream",
     "text": [
      "359it [00:00, 1650.38it/s]\n"
     ]
    },
    {
     "name": "stdout",
     "output_type": "stream",
     "text": [
      "st2image/data/ST-cnts/A4.tsv/ut_A4_stdata_filtered.tsv\n",
      "normalize gene count......\n",
      "normalize gene count done!\n"
     ]
    },
    {
     "name": "stderr",
     "output_type": "stream",
     "text": [
      "343it [00:00, 1544.14it/s]\n"
     ]
    },
    {
     "name": "stdout",
     "output_type": "stream",
     "text": [
      "st2image/data/ST-cnts/A5.tsv/ut_A5_stdata_filtered.tsv\n",
      "normalize gene count......\n",
      "normalize gene count done!\n"
     ]
    },
    {
     "name": "stderr",
     "output_type": "stream",
     "text": [
      "332it [00:00, 1644.90it/s]\n"
     ]
    },
    {
     "name": "stdout",
     "output_type": "stream",
     "text": [
      "st2image/data/ST-cnts/A6.tsv/ut_A6_stdata_filtered.tsv\n",
      "normalize gene count......\n",
      "normalize gene count done!\n"
     ]
    },
    {
     "name": "stderr",
     "output_type": "stream",
     "text": [
      "360it [00:00, 1688.92it/s]\n"
     ]
    },
    {
     "name": "stdout",
     "output_type": "stream",
     "text": [
      "st2image/data/ST-cnts/B1.tsv/ut_B1_stdata_filtered.tsv\n",
      "normalize gene count......\n",
      "normalize gene count done!\n"
     ]
    },
    {
     "name": "stderr",
     "output_type": "stream",
     "text": [
      "295it [00:00, 1712.03it/s]"
     ]
    },
    {
     "name": "stdout",
     "output_type": "stream",
     "text": [
      "st2image/data/ST-cnts/B2.tsv/ut_B2_stdata_filtered.tsv\n"
     ]
    },
    {
     "name": "stderr",
     "output_type": "stream",
     "text": [
      "\n"
     ]
    },
    {
     "name": "stdout",
     "output_type": "stream",
     "text": [
      "normalize gene count......\n",
      "normalize gene count done!\n"
     ]
    },
    {
     "name": "stderr",
     "output_type": "stream",
     "text": [
      "270it [00:00, 1654.43it/s]"
     ]
    },
    {
     "name": "stdout",
     "output_type": "stream",
     "text": [
      "st2image/data/ST-cnts/B3.tsv/ut_B3_stdata_filtered.tsv\n"
     ]
    },
    {
     "name": "stderr",
     "output_type": "stream",
     "text": [
      "\n"
     ]
    },
    {
     "name": "stdout",
     "output_type": "stream",
     "text": [
      "normalize gene count......\n",
      "normalize gene count done!\n"
     ]
    },
    {
     "name": "stderr",
     "output_type": "stream",
     "text": [
      "298it [00:00, 1636.50it/s]"
     ]
    },
    {
     "name": "stdout",
     "output_type": "stream",
     "text": [
      "st2image/data/ST-cnts/B4.tsv/ut_B4_stdata_filtered.tsv\n"
     ]
    },
    {
     "name": "stderr",
     "output_type": "stream",
     "text": [
      "\n"
     ]
    },
    {
     "name": "stdout",
     "output_type": "stream",
     "text": [
      "normalize gene count......\n",
      "normalize gene count done!\n"
     ]
    },
    {
     "name": "stderr",
     "output_type": "stream",
     "text": [
      "283it [00:00, 1570.99it/s]"
     ]
    },
    {
     "name": "stdout",
     "output_type": "stream",
     "text": [
      "st2image/data/ST-cnts/B5.tsv/ut_B5_stdata_filtered.tsv\n"
     ]
    },
    {
     "name": "stderr",
     "output_type": "stream",
     "text": [
      "\n"
     ]
    },
    {
     "name": "stdout",
     "output_type": "stream",
     "text": [
      "normalize gene count......\n",
      "normalize gene count done!\n"
     ]
    },
    {
     "name": "stderr",
     "output_type": "stream",
     "text": [
      "289it [00:00, 1661.99it/s]"
     ]
    },
    {
     "name": "stdout",
     "output_type": "stream",
     "text": [
      "st2image/data/ST-cnts/B6.tsv/ut_B6_stdata_filtered.tsv\n"
     ]
    },
    {
     "name": "stderr",
     "output_type": "stream",
     "text": [
      "\n"
     ]
    },
    {
     "name": "stdout",
     "output_type": "stream",
     "text": [
      "normalize gene count......\n",
      "normalize gene count done!\n"
     ]
    },
    {
     "name": "stderr",
     "output_type": "stream",
     "text": [
      "277it [00:00, 1672.23it/s]"
     ]
    },
    {
     "name": "stdout",
     "output_type": "stream",
     "text": [
      "st2image/data/ST-cnts/C1.tsv/ut_C1_stdata_filtered.tsv\n"
     ]
    },
    {
     "name": "stderr",
     "output_type": "stream",
     "text": [
      "\n"
     ]
    },
    {
     "name": "stdout",
     "output_type": "stream",
     "text": [
      "normalize gene count......\n",
      "normalize gene count done!\n"
     ]
    },
    {
     "name": "stderr",
     "output_type": "stream",
     "text": [
      "176it [00:00, 1654.52it/s]\n"
     ]
    },
    {
     "name": "stdout",
     "output_type": "stream",
     "text": [
      "st2image/data/ST-cnts/C2.tsv/ut_C2_stdata_filtered.tsv\n",
      "normalize gene count......\n",
      "normalize gene count done!\n"
     ]
    },
    {
     "name": "stderr",
     "output_type": "stream",
     "text": [
      "187it [00:00, 1638.29it/s]\n"
     ]
    },
    {
     "name": "stdout",
     "output_type": "stream",
     "text": [
      "st2image/data/ST-cnts/C3.tsv/ut_C3_stdata_filtered.tsv\n",
      "normalize gene count......\n",
      "normalize gene count done!\n"
     ]
    },
    {
     "name": "stderr",
     "output_type": "stream",
     "text": [
      "180it [00:00, 1556.75it/s]\n"
     ]
    },
    {
     "name": "stdout",
     "output_type": "stream",
     "text": [
      "st2image/data/ST-cnts/C4.tsv/ut_C4_stdata_filtered.tsv\n",
      "normalize gene count......\n",
      "normalize gene count done!\n"
     ]
    },
    {
     "name": "stderr",
     "output_type": "stream",
     "text": [
      "184it [00:00, 1672.29it/s]\n"
     ]
    },
    {
     "name": "stdout",
     "output_type": "stream",
     "text": [
      "st2image/data/ST-cnts/C5.tsv/ut_C5_stdata_filtered.tsv\n",
      "normalize gene count......\n",
      "normalize gene count done!\n"
     ]
    },
    {
     "name": "stderr",
     "output_type": "stream",
     "text": [
      "181it [00:00, 1667.84it/s]\n"
     ]
    },
    {
     "name": "stdout",
     "output_type": "stream",
     "text": [
      "st2image/data/ST-cnts/C6.tsv/ut_C6_stdata_filtered.tsv\n",
      "normalize gene count......\n",
      "normalize gene count done!\n"
     ]
    },
    {
     "name": "stderr",
     "output_type": "stream",
     "text": [
      "178it [00:00, 1672.77it/s]\n"
     ]
    },
    {
     "name": "stdout",
     "output_type": "stream",
     "text": [
      "st2image/data/ST-cnts/D1.tsv/ut_D1_stdata_filtered.tsv\n",
      "normalize gene count......\n",
      "normalize gene count done!\n"
     ]
    },
    {
     "name": "stderr",
     "output_type": "stream",
     "text": [
      "306it [00:00, 1661.68it/s]"
     ]
    },
    {
     "name": "stdout",
     "output_type": "stream",
     "text": [
      "st2image/data/ST-cnts/D2.tsv/ut_D2_stdata_filtered.tsv\n"
     ]
    },
    {
     "name": "stderr",
     "output_type": "stream",
     "text": [
      "\n"
     ]
    },
    {
     "name": "stdout",
     "output_type": "stream",
     "text": [
      "normalize gene count......\n",
      "normalize gene count done!\n"
     ]
    },
    {
     "name": "stderr",
     "output_type": "stream",
     "text": [
      "303it [00:00, 1453.92it/s]\n"
     ]
    },
    {
     "name": "stdout",
     "output_type": "stream",
     "text": [
      "st2image/data/ST-cnts/D3.tsv/ut_D3_stdata_filtered.tsv\n",
      "normalize gene count......\n",
      "normalize gene count done!\n"
     ]
    },
    {
     "name": "stderr",
     "output_type": "stream",
     "text": [
      "301it [00:00, 1651.43it/s]"
     ]
    },
    {
     "name": "stdout",
     "output_type": "stream",
     "text": [
      "st2image/data/ST-cnts/D4.tsv/ut_D4_stdata_filtered.tsv\n"
     ]
    },
    {
     "name": "stderr",
     "output_type": "stream",
     "text": [
      "\n"
     ]
    },
    {
     "name": "stdout",
     "output_type": "stream",
     "text": [
      "normalize gene count......\n",
      "normalize gene count done!\n"
     ]
    },
    {
     "name": "stderr",
     "output_type": "stream",
     "text": [
      "302it [00:00, 1655.65it/s]"
     ]
    },
    {
     "name": "stdout",
     "output_type": "stream",
     "text": [
      "st2image/data/ST-cnts/D5.tsv/ut_D5_stdata_filtered.tsv\n"
     ]
    },
    {
     "name": "stderr",
     "output_type": "stream",
     "text": [
      "\n"
     ]
    },
    {
     "name": "stdout",
     "output_type": "stream",
     "text": [
      "normalize gene count......\n",
      "normalize gene count done!\n"
     ]
    },
    {
     "name": "stderr",
     "output_type": "stream",
     "text": [
      "306it [00:00, 1552.67it/s]\n"
     ]
    },
    {
     "name": "stdout",
     "output_type": "stream",
     "text": [
      "st2image/data/ST-cnts/D6.tsv/ut_D6_stdata_filtered.tsv\n",
      "normalize gene count......\n",
      "normalize gene count done!\n"
     ]
    },
    {
     "name": "stderr",
     "output_type": "stream",
     "text": [
      "315it [00:00, 1479.87it/s]\n"
     ]
    },
    {
     "name": "stdout",
     "output_type": "stream",
     "text": [
      "st2image/data/ST-cnts/E1.tsv/ut_E1_stdata_filtered.tsv\n",
      "normalize gene count......\n",
      "normalize gene count done!\n"
     ]
    },
    {
     "name": "stderr",
     "output_type": "stream",
     "text": [
      "587it [00:00, 1621.44it/s]\n"
     ]
    },
    {
     "name": "stdout",
     "output_type": "stream",
     "text": [
      "st2image/data/ST-cnts/E2.tsv/ut_E2_stdata_filtered.tsv\n",
      "normalize gene count......\n",
      "normalize gene count done!\n"
     ]
    },
    {
     "name": "stderr",
     "output_type": "stream",
     "text": [
      "572it [00:00, 1652.64it/s]\n"
     ]
    },
    {
     "name": "stdout",
     "output_type": "stream",
     "text": [
      "st2image/data/ST-cnts/E3.tsv/ut_E3_stdata_filtered.tsv\n",
      "normalize gene count......\n",
      "normalize gene count done!\n"
     ]
    },
    {
     "name": "stderr",
     "output_type": "stream",
     "text": [
      "570it [00:00, 1676.45it/s]\n"
     ]
    },
    {
     "name": "stdout",
     "output_type": "stream",
     "text": [
      "st2image/data/ST-cnts/F1.tsv/ut_F1_stdata_filtered.tsv\n",
      "normalize gene count......\n",
      "normalize gene count done!\n"
     ]
    },
    {
     "name": "stderr",
     "output_type": "stream",
     "text": [
      "691it [00:00, 1497.73it/s]\n"
     ]
    },
    {
     "name": "stdout",
     "output_type": "stream",
     "text": [
      "st2image/data/ST-cnts/F2.tsv/ut_F2_stdata_filtered.tsv\n",
      "normalize gene count......\n",
      "normalize gene count done!\n"
     ]
    },
    {
     "name": "stderr",
     "output_type": "stream",
     "text": [
      "695it [00:00, 1592.01it/s]\n"
     ]
    },
    {
     "name": "stdout",
     "output_type": "stream",
     "text": [
      "st2image/data/ST-cnts/F3.tsv/ut_F3_stdata_filtered.tsv\n",
      "normalize gene count......\n",
      "normalize gene count done!\n"
     ]
    },
    {
     "name": "stderr",
     "output_type": "stream",
     "text": [
      "712it [00:00, 1567.84it/s]\n"
     ]
    },
    {
     "name": "stdout",
     "output_type": "stream",
     "text": [
      "st2image/data/ST-cnts/G1.tsv/ut_G1_stdata_filtered.tsv\n",
      "normalize gene count......\n",
      "normalize gene count done!\n"
     ]
    },
    {
     "name": "stderr",
     "output_type": "stream",
     "text": [
      "441it [00:00, 1518.74it/s]\n"
     ]
    },
    {
     "name": "stdout",
     "output_type": "stream",
     "text": [
      "st2image/data/ST-cnts/G2.tsv/ut_G2_stdata_filtered.tsv\n",
      "normalize gene count......\n",
      "normalize gene count done!\n"
     ]
    },
    {
     "name": "stderr",
     "output_type": "stream",
     "text": [
      "467it [00:00, 1545.44it/s]\n"
     ]
    },
    {
     "name": "stdout",
     "output_type": "stream",
     "text": [
      "st2image/data/ST-cnts/G3.tsv/ut_G3_stdata_filtered.tsv\n",
      "normalize gene count......\n",
      "normalize gene count done!\n"
     ]
    },
    {
     "name": "stderr",
     "output_type": "stream",
     "text": [
      "463it [00:00, 1496.45it/s]\n"
     ]
    },
    {
     "name": "stdout",
     "output_type": "stream",
     "text": [
      "st2image/data/ST-cnts/H1.tsv/ut_H1_stdata_filtered.tsv\n",
      "normalize gene count......\n",
      "normalize gene count done!\n"
     ]
    },
    {
     "name": "stderr",
     "output_type": "stream",
     "text": [
      "613it [00:00, 1703.00it/s]\n"
     ]
    },
    {
     "name": "stdout",
     "output_type": "stream",
     "text": [
      "st2image/data/ST-cnts/H2.tsv/ut_H2_stdata_filtered.tsv\n",
      "normalize gene count......\n",
      "normalize gene count done!\n"
     ]
    },
    {
     "name": "stderr",
     "output_type": "stream",
     "text": [
      "603it [00:00, 1671.01it/s]\n"
     ]
    },
    {
     "name": "stdout",
     "output_type": "stream",
     "text": [
      "st2image/data/ST-cnts/H3.tsv/ut_H3_stdata_filtered.tsv\n",
      "normalize gene count......\n",
      "normalize gene count done!\n"
     ]
    },
    {
     "name": "stderr",
     "output_type": "stream",
     "text": [
      "510it [00:00, 1681.29it/s]\n"
     ]
    }
   ],
   "source": [
    "from tqdm import tqdm\n",
    "\n",
    "\n",
    "def find_top_gene(N, list_quantile_gene):\n",
    "    df = pd.read_csv('st2image/full_gene_expression.csv')\n",
    "    df = df.fillna(0)\n",
    "    df = df.drop(['Unnamed: 0', 'patient'], axis=1)\n",
    "    df = df[list_quantile_gene]\n",
    "    variations = df.var()\n",
    "    top_max_var_gene = list(variations.nlargest(N).index)\n",
    "    top_max_var_gene.append('Unnamed: 0')\n",
    "    return top_max_var_gene\n",
    "\n",
    "\n",
    "# Function to calculate the logarithm\n",
    "def calculate_log(row):\n",
    "    return np.log2((row * 1000) / row.sum() + 1)\n",
    "\n",
    "def norm_gene(df):\n",
    "    print('normalize gene count......')\n",
    "    tmp_df = df.copy()\n",
    "    df = df.drop(['Unnamed: 0'], axis=1)\n",
    "    result = df.apply(lambda row: calculate_log(row), axis=1)\n",
    "    result['Unnamed: 0'] = tmp_df['Unnamed: 0']\n",
    "    print('normalize gene count done!')\n",
    "    return result\n",
    "\n",
    "\n",
    "def extract_top_gene(gene_file_path, top_max_var_gene):\n",
    "    df = pd.read_csv(gene_file_path, delimiter='\\t')\n",
    "    df = norm_gene(df)\n",
    "    # Extract column names from the DataFrame\n",
    "    existing_columns = df.columns\n",
    "\n",
    "    # Specify the desired columns\n",
    "    desired_columns = top_max_var_gene\n",
    "\n",
    "    # Find missing columns\n",
    "    missing_columns = [col for col in desired_columns if col not in existing_columns]\n",
    "\n",
    "    # Fill missing columns with 0\n",
    "    for col in missing_columns:\n",
    "        df[col] = 0\n",
    "\n",
    "    # Reorder the DataFrame columns based on desired columns\n",
    "    df = df[desired_columns]\n",
    "    return df\n",
    "\n",
    "\n",
    "def create_data_gene_image(list_quantile_gene):\n",
    "    result = []\n",
    "    print('finding top max var genes.....')\n",
    "    top_max_var_gene = find_top_gene(1024, list_quantile_gene)\n",
    "    print('find top max var gene done!')\n",
    "    cnts_directory = 'st2image/data/ST-cnts/'\n",
    "    files = ['A', 'B', 'C', 'D', 'E', 'F', 'G', 'H']\n",
    "    for patient in files:\n",
    "        if patient in ('A', 'B', 'C', 'D'):\n",
    "            for i in range(1, 7):\n",
    "                cnts_file = f'{cnts_directory}{patient}{i}.tsv/ut_{patient}{i}_stdata_filtered.tsv'\n",
    "                print(cnts_file)\n",
    "                #             df = pd.read_csv(cnts_file, delimiter='\\t', usecols = top_max_var_gene)\n",
    "                df = extract_top_gene(cnts_file, top_max_var_gene)\n",
    "                for j, row in tqdm(df.iterrows()):\n",
    "                    index = row['Unnamed: 0']\n",
    "                    index = index.split('x')\n",
    "                    x = int(index[0])\n",
    "                    y = int(index[1])\n",
    "                    row_value = df.iloc[j, : -1].tolist()\n",
    "                    image_path = f'ST-imgs-split/{patient}/{patient}{i}/sub_img_{x}_{y}.jpg'\n",
    "                    result.append((row_value, image_path, patient))\n",
    "\n",
    "        else:\n",
    "            for i in range(1, 4):\n",
    "                cnts_file = cnts_directory + f\"{patient}{i}.tsv/\" + f'ut_{patient}{i}_stdata_filtered.tsv'\n",
    "                print(cnts_file)\n",
    "                #             df = pd.read_csv(cnts_file, delimiter='\\t', usecols = top_max_var_gene)\n",
    "                df = extract_top_gene(cnts_file, top_max_var_gene)\n",
    "                for j, row in tqdm(df.iterrows()):\n",
    "                    index = row['Unnamed: 0']\n",
    "                    index = index.split('x')\n",
    "                    x = int(index[0])\n",
    "                    y = int(index[1])\n",
    "                    row_value = df.iloc[j, : -1].tolist()\n",
    "                    image_path = f'ST-imgs-split/{patient}/{patient}{i}/sub_img_{x}_{y}.jpg'\n",
    "                    result.append((row_value, image_path, patient))\n",
    "    result = pd.DataFrame(result, columns=['gene_expression', 'image_path', 'patient'])\n",
    "    result = result.fillna(0)\n",
    "    result = result.loc[(result != 0).any(axis=1)]\n",
    "    result.to_csv('data_1024.csv')\n",
    "\n",
    "create_data_gene_image(list_quantile_gene=list_gene)"
   ]
  },
  {
   "cell_type": "code",
   "execution_count": null,
   "id": "b0f798a20b669811",
   "metadata": {},
   "outputs": [],
   "source": [
    "def create_data_gene_image(genes):\n",
    "    result = []\n",
    "    top_max_var_gene = genes\n",
    "    cnts_directory = 'data/ST-cnts/'\n",
    "    files = ['A', 'B', 'C', 'D', 'E', 'F', 'G', 'H']\n",
    "    for patient in files:\n",
    "        if patient in ('A', 'B', 'C', 'D'):\n",
    "            for i in range(1, 7):\n",
    "                cnts_file = f'{cnts_directory}{patient}{i}.tsv/ut_{patient}{i}_stdata_filtered.tsv'\n",
    "                print(cnts_file)\n",
    "                df = pd.read_csv(cnts_file, delimiter='\\t')\n",
    "                df['patient'] = patient\n",
    "                print(df.shape, len(df.columns.tolist()), len(cnts_df_gene))\n",
    "                for j, row in tqdm(df.iterrows()):\n",
    "                    index = row['Unnamed: 0']\n",
    "                    index = index.split('x')\n",
    "                    x = int(index[0])\n",
    "                    y = int(index[1])\n",
    "                    row_value = df.iloc[j, : -1].tolist()\n",
    "                    image_path = f'ST-imgs-split/{patient}/{patient}{i}/sub_img_{x}_{y}.jpg'\n",
    "                    result.append((row_value, image_path, patient))\n",
    "\n",
    "        else:\n",
    "            for i in range(1, 4):\n",
    "                cnts_file = cnts_directory + f\"{patient}{i}.tsv/\" + f'ut_{patient}{i}_stdata_filtered.tsv'\n",
    "                print(cnts_file)\n",
    "                #             df = pd.read_csv(cnts_file, delimiter='\\t', usecols = top_max_var_gene)\n",
    "                df = extract_top_gene(cnts_file, top_max_var_gene)\n",
    "                for j, row in tqdm(df.iterrows()):\n",
    "                    index = row['Unnamed: 0']\n",
    "                    index = index.split('x')\n",
    "                    x = int(index[0])\n",
    "                    y = int(index[1])\n",
    "                    row_value = df.iloc[j, : -1].tolist()\n",
    "                    image_path = f'ST-imgs-split/{patient}/{patient}{i}/sub_img_{x}_{y}.jpg'\n",
    "                    result.append((row_value, image_path, patient))\n",
    "    result = pd.DataFrame(result, columns=['gene_expression', 'image_path', 'patient'])\n",
    "    result.to_csv('data_A.csv')\n"
   ]
  },
  {
   "cell_type": "code",
   "execution_count": null,
   "id": "dbf7a60b254720c6",
   "metadata": {},
   "outputs": [],
   "source": [
    "cnts_df.to_csv('full_gene_expression_1.csv', index=False)"
   ]
  },
  {
   "cell_type": "code",
   "execution_count": null,
   "id": "8f2f784cef5f3a2f",
   "metadata": {},
   "outputs": [],
   "source": [
    "cnts_df.shape"
   ]
  },
  {
   "cell_type": "code",
   "execution_count": null,
   "id": "de9450527ed0f07",
   "metadata": {},
   "outputs": [],
   "source": [
    "df = pd.read_csv('/home/anlt69/Downloads/full_gene_expression.csv')\n",
    "df.shape"
   ]
  },
  {
   "cell_type": "code",
   "execution_count": null,
   "id": "97bd126dbd95f7df",
   "metadata": {
    "jupyter": {
     "is_executing": true
    }
   },
   "outputs": [],
   "source": [
    "result = cnts_df\n",
    "result = result.drop(columns=['Unnamed: 0', 'patient'])\n",
    "variations = result.var()\n",
    "print(variations)\n",
    "# Get the top N columns with the maximum variance\n",
    "top_max_var_gene = list(variations.nlargest(100).index)\n",
    "# top_max_var_gene.append('Unnamed: 0')\n",
    "# top_max_var_gene.append('Unnamed: 1')"
   ]
  },
  {
   "cell_type": "code",
   "execution_count": null,
   "id": "e87a606d5b1222c8",
   "metadata": {},
   "outputs": [],
   "source": [
    "top_max_var_gene = list(variations.nlargest(100).index)\n",
    "top_max_var_gene"
   ]
  },
  {
   "cell_type": "code",
   "execution_count": null,
   "id": "b47b85d0a38696a4",
   "metadata": {},
   "outputs": [],
   "source": [
    "def extract_gene(gene_file_path, genes):\n",
    "    df = pd.read_csv(gene_file_path, delimiter='\\t')\n",
    "\n",
    "    # Extract column names from the DataFrame\n",
    "    existing_columns = df.columns\n",
    "\n",
    "    # Specify the desired columns\n",
    "    desired_columns = genes\n",
    "\n",
    "    # Find missing columns\n",
    "    missing_columns = [col for col in desired_columns if col not in existing_columns]\n",
    "\n",
    "    # Fill missing columns with 0\n",
    "    for col in missing_columns:\n",
    "        df[col] = 0\n",
    "    df = df[desired_columns]\n",
    "    return df"
   ]
  },
  {
   "cell_type": "code",
   "execution_count": null,
   "id": "b76f8465437eceb4",
   "metadata": {},
   "outputs": [],
   "source": [
    "import pandas as pd\n",
    "\n",
    "# Example DataFrame\n",
    "data = {\n",
    "    'Gene_A': [10, 20, 30],\n",
    "    'Gene_B': [15, 25, 35],\n",
    "    'Gene_C': [12, 22, 32]\n",
    "}\n",
    "\n",
    "# Create the DataFrame\n",
    "df = pd.DataFrame(data)\n",
    "list_gene = ['Gene_A', 'Gene_B', 'Gene_C', 'Gene_D']\n",
    "\n",
    "get_gene(df, list_gene)\n",
    "\n"
   ]
  },
  {
   "cell_type": "code",
   "execution_count": null,
   "id": "b7dc1febd14375d3",
   "metadata": {
    "jupyter": {
     "is_executing": true
    }
   },
   "outputs": [],
   "source": [
    "df = pd.read_csv('full_gene_expression_1.csv')\n",
    "df.columns"
   ]
  },
  {
   "cell_type": "code",
   "execution_count": null,
   "id": "a4c058ebfcabb6b3",
   "metadata": {
    "jupyter": {
     "is_executing": true
    }
   },
   "outputs": [],
   "source": [
    "import numpy as pn\n",
    "from gan_model import  *\n",
    "\n",
    "X_train, gene_expression,  X_test, gene_expression_test = load_data('data.csv')\n",
    "\n",
    "def scale_matrix(matrix, max):\n",
    "    scaled_matrix = 2 * matrix/max - 1\n",
    "    return scaled_matrix"
   ]
  },
  {
   "cell_type": "code",
   "execution_count": null,
   "id": "e6f9a590a0438a0",
   "metadata": {
    "jupyter": {
     "is_executing": true
    }
   },
   "outputs": [],
   "source": [
    "gene_expression"
   ]
  },
  {
   "cell_type": "code",
   "execution_count": null,
   "id": "bc37d642b9a41fe2",
   "metadata": {},
   "outputs": [],
   "source": [
    "result = []\n",
    "top_max_var_gene = genes\n",
    "cnts_directory = 'data/ST-cnts/'\n",
    "files = ['A', 'B', 'C', 'D', 'E', 'F', 'G', 'H']\n",
    "for patient in files:\n",
    "    if patient in ('A', 'B', 'C', 'D'):\n",
    "        for i in range(1, 7):\n",
    "            cnts_file = f'{cnts_directory}{patient}{i}.tsv/ut_{patient}{i}_stdata_filtered.tsv'\n",
    "            print(cnts_file)\n",
    "            df = extract_top_gene(cnts_file, top_max_var_gene)\n",
    "            for j, row in tqdm(df.iterrows()):\n",
    "                index = row['index']\n",
    "                index = index.split('x')\n",
    "                x = int(index[0])\n",
    "                y = int(index[1])\n",
    "                row_value = df.iloc[j, : -1].tolist()\n",
    "                image_path = f'ST-imgs-split/{patient}/{patient}{i}/sub_img_{x}_{y}.jpg'\n",
    "                result.append(row_value)\n",
    "\n",
    "    else:\n",
    "        for i in range(1, 4):\n",
    "            cnts_file = cnts_directory + f\"{patient}{i}.tsv/\" + f'ut_{patient}{i}_stdata_filtered.tsv'\n",
    "            print(cnts_file)\n",
    "            #             df = pd.read_csv(cnts_file, delimiter='\\t', usecols = top_max_var_gene)\n",
    "            df = extract_top_gene(cnts_file, top_max_var_gene)\n",
    "            for j, row in tqdm(df.iterrows()):\n",
    "                index = row['index']\n",
    "                index = index.split('x')\n",
    "                x = int(index[0])\n",
    "                y = int(index[1])\n",
    "                row_value = df.iloc[j, : -1].tolist()\n",
    "                image_path = f'ST-imgs-split/{patient}/{patient}{i}/sub_img_{x}_{y}.jpg'\n",
    "                row_value += [image_path, patient]\n",
    "                result.append(row_value)\n"
   ]
  },
  {
   "cell_type": "code",
   "execution_count": 62,
   "id": "56fae10f",
   "metadata": {},
   "outputs": [
    {
     "name": "stderr",
     "output_type": "stream",
     "text": [
      "/tmp/ipykernel_14579/3438010675.py:2: DtypeWarning: Columns (18760) have mixed types. Specify dtype option on import or set low_memory=False.\n",
      "  df = pd.read_csv('st2image/data/gene_expression/full_gene_expression.csv')\n"
     ]
    }
   ],
   "source": [
    "import pandas as pd\n",
    "df = pd.read_csv('st2image/data/gene_expression/full_gene_expression.csv')"
   ]
  },
  {
   "cell_type": "code",
   "execution_count": 63,
   "id": "abd6e286",
   "metadata": {},
   "outputs": [
    {
     "data": {
      "text/plain": [
       "(13620, 18761)"
      ]
     },
     "execution_count": 63,
     "metadata": {},
     "output_type": "execute_result"
    }
   ],
   "source": [
    "# df = df.drop(columns=['Unnamed: 0', 'patient'])\n",
    "df = df.fillna(0)\n",
    "df_filtered = df.loc[~(df.drop(columns=['Unnamed: 0', 'patient']) == 0).all(axis=1)]\n",
    "df_filtered.shape"
   ]
  },
  {
   "cell_type": "code",
   "execution_count": 60,
   "id": "7b504f01",
   "metadata": {},
   "outputs": [
    {
     "data": {
      "text/html": [
       "<div>\n",
       "<style scoped>\n",
       "    .dataframe tbody tr th:only-of-type {\n",
       "        vertical-align: middle;\n",
       "    }\n",
       "\n",
       "    .dataframe tbody tr th {\n",
       "        vertical-align: top;\n",
       "    }\n",
       "\n",
       "    .dataframe thead th {\n",
       "        text-align: right;\n",
       "    }\n",
       "</style>\n",
       "<table border=\"1\" class=\"dataframe\">\n",
       "  <thead>\n",
       "    <tr style=\"text-align: right;\">\n",
       "      <th></th>\n",
       "      <th>A</th>\n",
       "      <th>B</th>\n",
       "      <th>C</th>\n",
       "      <th>D</th>\n",
       "    </tr>\n",
       "  </thead>\n",
       "  <tbody>\n",
       "    <tr>\n",
       "      <th>1</th>\n",
       "      <td>2</td>\n",
       "      <td>0</td>\n",
       "      <td>3</td>\n",
       "      <td>0</td>\n",
       "    </tr>\n",
       "    <tr>\n",
       "      <th>3</th>\n",
       "      <td>4</td>\n",
       "      <td>5</td>\n",
       "      <td>6</td>\n",
       "      <td>0</td>\n",
       "    </tr>\n",
       "  </tbody>\n",
       "</table>\n",
       "</div>"
      ],
      "text/plain": [
       "   A  B  C  D\n",
       "1  2  0  3  0\n",
       "3  4  5  6  0"
      ]
     },
     "execution_count": 60,
     "metadata": {},
     "output_type": "execute_result"
    }
   ],
   "source": [
    "import pandas as pd\n",
    "\n",
    "# Sample DataFrame\n",
    "data = {\n",
    "    'A': [0, 2, 0, 4],\n",
    "    'B': [0, 0, 0, 5],\n",
    "    'C': [0, 3, 0, 6],\n",
    "    'D': [0, 0, 0, 0]\n",
    "}\n",
    "df = pd.DataFrame(data)\n",
    "\n",
    "# Check if all values excluding columns 'A' and 'B' are 0\n",
    "df_filtered = df.loc[~(df.drop(columns=['A', 'B']) == 0).all(axis=1)]\n",
    "\n",
    "df_filtered\n"
   ]
  },
  {
   "cell_type": "code",
   "execution_count": 31,
   "id": "c9546101",
   "metadata": {},
   "outputs": [
    {
     "data": {
      "text/plain": [
       "(13620, 18761)"
      ]
     },
     "execution_count": 31,
     "metadata": {},
     "output_type": "execute_result"
    }
   ],
   "source": [
    "df_filtered['Unnamed: 0'] = tmp_df['Unnamed: 0']\n",
    "df_filtered['patient'] = tmp_df['patient']\n",
    "df_filtered.shape"
   ]
  },
  {
   "cell_type": "code",
   "execution_count": null,
   "id": "3f0f3363",
   "metadata": {},
   "outputs": [],
   "source": []
  },
  {
   "cell_type": "code",
   "execution_count": 51,
   "id": "4958daa5",
   "metadata": {},
   "outputs": [
    {
     "data": {
      "text/html": [
       "<div>\n",
       "<style scoped>\n",
       "    .dataframe tbody tr th:only-of-type {\n",
       "        vertical-align: middle;\n",
       "    }\n",
       "\n",
       "    .dataframe tbody tr th {\n",
       "        vertical-align: top;\n",
       "    }\n",
       "\n",
       "    .dataframe thead th {\n",
       "        text-align: right;\n",
       "    }\n",
       "</style>\n",
       "<table border=\"1\" class=\"dataframe\">\n",
       "  <thead>\n",
       "    <tr style=\"text-align: right;\">\n",
       "      <th></th>\n",
       "      <th>A</th>\n",
       "      <th>B</th>\n",
       "      <th>C</th>\n",
       "      <th>D</th>\n",
       "      <th>E</th>\n",
       "    </tr>\n",
       "  </thead>\n",
       "  <tbody>\n",
       "    <tr>\n",
       "      <th>0</th>\n",
       "      <td>1</td>\n",
       "      <td>4</td>\n",
       "      <td>7</td>\n",
       "      <td>1</td>\n",
       "      <td>2</td>\n",
       "    </tr>\n",
       "    <tr>\n",
       "      <th>1</th>\n",
       "      <td>0</td>\n",
       "      <td>0</td>\n",
       "      <td>0</td>\n",
       "      <td>1</td>\n",
       "      <td>2</td>\n",
       "    </tr>\n",
       "    <tr>\n",
       "      <th>2</th>\n",
       "      <td>0</td>\n",
       "      <td>0</td>\n",
       "      <td>9</td>\n",
       "      <td>1</td>\n",
       "      <td>2</td>\n",
       "    </tr>\n",
       "    <tr>\n",
       "      <th>3</th>\n",
       "      <td>0</td>\n",
       "      <td>0</td>\n",
       "      <td>0</td>\n",
       "      <td>0</td>\n",
       "      <td>0</td>\n",
       "    </tr>\n",
       "  </tbody>\n",
       "</table>\n",
       "</div>"
      ],
      "text/plain": [
       "   A  B  C  D  E\n",
       "0  1  4  7  1  2\n",
       "1  0  0  0  1  2\n",
       "2  0  0  9  1  2\n",
       "3  0  0  0  0  0"
      ]
     },
     "execution_count": 51,
     "metadata": {},
     "output_type": "execute_result"
    }
   ],
   "source": [
    "data = {\n",
    "    'A': [1, 0, 0, 0],\n",
    "    'B': [4, 0, 0, 0],\n",
    "    'C': [7, 0, 9, 0],\n",
    "    'D': [1, 1, 1, 0],\n",
    "    'E': [2, 2, 2, 0]\n",
    "}\n",
    "\n",
    "df = pd.DataFrame(data)\n",
    "df"
   ]
  },
  {
   "cell_type": "code",
   "execution_count": 52,
   "id": "1ce12b54",
   "metadata": {},
   "outputs": [
    {
     "data": {
      "text/html": [
       "<div>\n",
       "<style scoped>\n",
       "    .dataframe tbody tr th:only-of-type {\n",
       "        vertical-align: middle;\n",
       "    }\n",
       "\n",
       "    .dataframe tbody tr th {\n",
       "        vertical-align: top;\n",
       "    }\n",
       "\n",
       "    .dataframe thead th {\n",
       "        text-align: right;\n",
       "    }\n",
       "</style>\n",
       "<table border=\"1\" class=\"dataframe\">\n",
       "  <thead>\n",
       "    <tr style=\"text-align: right;\">\n",
       "      <th></th>\n",
       "      <th>A</th>\n",
       "      <th>B</th>\n",
       "      <th>C</th>\n",
       "      <th>D</th>\n",
       "      <th>E</th>\n",
       "    </tr>\n",
       "  </thead>\n",
       "  <tbody>\n",
       "    <tr>\n",
       "      <th>0</th>\n",
       "      <td>1</td>\n",
       "      <td>4</td>\n",
       "      <td>7</td>\n",
       "      <td>1</td>\n",
       "      <td>2</td>\n",
       "    </tr>\n",
       "  </tbody>\n",
       "</table>\n",
       "</div>"
      ],
      "text/plain": [
       "   A  B  C  D  E\n",
       "0  1  4  7  1  2"
      ]
     },
     "execution_count": 52,
     "metadata": {},
     "output_type": "execute_result"
    }
   ],
   "source": [
    "subset_columns = ['A', 'B', 'C']\n",
    "\n",
    "# Select the subset of the DataFrame\n",
    "subset = df[subset_columns]\n",
    "\n",
    "# Remove rows where all values are 0 in the subset\n",
    "df = df.loc[(subset != 0).all(axis=1)]\n",
    "df"
   ]
  },
  {
   "cell_type": "code",
   "execution_count": 15,
   "id": "c0e1330f",
   "metadata": {},
   "outputs": [],
   "source": []
  },
  {
   "cell_type": "code",
   "execution_count": 27,
   "id": "c14d9994",
   "metadata": {},
   "outputs": [
    {
     "data": {
      "text/plain": [
       "(13620, 18761)"
      ]
     },
     "execution_count": 27,
     "metadata": {},
     "output_type": "execute_result"
    }
   ],
   "source": [
    "df_filtered.shape"
   ]
  },
  {
   "cell_type": "code",
   "execution_count": 14,
   "id": "e6bd5574",
   "metadata": {},
   "outputs": [
    {
     "data": {
      "text/plain": [
       "(13620, 18761)"
      ]
     },
     "execution_count": 14,
     "metadata": {},
     "output_type": "execute_result"
    }
   ],
   "source": [
    "df.shape"
   ]
  },
  {
   "cell_type": "code",
   "execution_count": 13,
   "id": "12938fdc",
   "metadata": {},
   "outputs": [
    {
     "data": {
      "text/html": [
       "<div>\n",
       "<style scoped>\n",
       "    .dataframe tbody tr th:only-of-type {\n",
       "        vertical-align: middle;\n",
       "    }\n",
       "\n",
       "    .dataframe tbody tr th {\n",
       "        vertical-align: top;\n",
       "    }\n",
       "\n",
       "    .dataframe thead th {\n",
       "        text-align: right;\n",
       "    }\n",
       "</style>\n",
       "<table border=\"1\" class=\"dataframe\">\n",
       "  <thead>\n",
       "    <tr style=\"text-align: right;\">\n",
       "      <th></th>\n",
       "      <th>PRSS42</th>\n",
       "      <th>TAGLN</th>\n",
       "      <th>CRTAC1</th>\n",
       "      <th>RDH11</th>\n",
       "      <th>FGG</th>\n",
       "      <th>CCNF</th>\n",
       "      <th>CXCR6</th>\n",
       "      <th>GATAD1</th>\n",
       "      <th>PRMT2</th>\n",
       "      <th>OR5K4</th>\n",
       "      <th>...</th>\n",
       "      <th>RBMXL3</th>\n",
       "      <th>SYCP3</th>\n",
       "      <th>ALB</th>\n",
       "      <th>NME6</th>\n",
       "      <th>OTULIN</th>\n",
       "      <th>TCTE3</th>\n",
       "      <th>ADGRF3</th>\n",
       "      <th>EIF5AL1</th>\n",
       "      <th>Unnamed: 0.1</th>\n",
       "      <th>patient</th>\n",
       "    </tr>\n",
       "  </thead>\n",
       "  <tbody>\n",
       "    <tr>\n",
       "      <th>0</th>\n",
       "      <td>0</td>\n",
       "      <td>2</td>\n",
       "      <td>0</td>\n",
       "      <td>0</td>\n",
       "      <td>0</td>\n",
       "      <td>0</td>\n",
       "      <td>0</td>\n",
       "      <td>1</td>\n",
       "      <td>0</td>\n",
       "      <td>0</td>\n",
       "      <td>...</td>\n",
       "      <td>0</td>\n",
       "      <td>0</td>\n",
       "      <td>0</td>\n",
       "      <td>0</td>\n",
       "      <td>0</td>\n",
       "      <td>0</td>\n",
       "      <td>0</td>\n",
       "      <td>0</td>\n",
       "      <td>10x13</td>\n",
       "      <td>A</td>\n",
       "    </tr>\n",
       "    <tr>\n",
       "      <th>1</th>\n",
       "      <td>0</td>\n",
       "      <td>2</td>\n",
       "      <td>0</td>\n",
       "      <td>0</td>\n",
       "      <td>0</td>\n",
       "      <td>0</td>\n",
       "      <td>0</td>\n",
       "      <td>0</td>\n",
       "      <td>0</td>\n",
       "      <td>0</td>\n",
       "      <td>...</td>\n",
       "      <td>0</td>\n",
       "      <td>1</td>\n",
       "      <td>0</td>\n",
       "      <td>0</td>\n",
       "      <td>0</td>\n",
       "      <td>0</td>\n",
       "      <td>0</td>\n",
       "      <td>0</td>\n",
       "      <td>10x14</td>\n",
       "      <td>A</td>\n",
       "    </tr>\n",
       "    <tr>\n",
       "      <th>2</th>\n",
       "      <td>0</td>\n",
       "      <td>0</td>\n",
       "      <td>0</td>\n",
       "      <td>0</td>\n",
       "      <td>0</td>\n",
       "      <td>0</td>\n",
       "      <td>0</td>\n",
       "      <td>0</td>\n",
       "      <td>3</td>\n",
       "      <td>0</td>\n",
       "      <td>...</td>\n",
       "      <td>0</td>\n",
       "      <td>0</td>\n",
       "      <td>0</td>\n",
       "      <td>0</td>\n",
       "      <td>0</td>\n",
       "      <td>0</td>\n",
       "      <td>0</td>\n",
       "      <td>0</td>\n",
       "      <td>10x15</td>\n",
       "      <td>A</td>\n",
       "    </tr>\n",
       "    <tr>\n",
       "      <th>3</th>\n",
       "      <td>0</td>\n",
       "      <td>1</td>\n",
       "      <td>0</td>\n",
       "      <td>0</td>\n",
       "      <td>0</td>\n",
       "      <td>0</td>\n",
       "      <td>0</td>\n",
       "      <td>0</td>\n",
       "      <td>0</td>\n",
       "      <td>0</td>\n",
       "      <td>...</td>\n",
       "      <td>0</td>\n",
       "      <td>0</td>\n",
       "      <td>0</td>\n",
       "      <td>0</td>\n",
       "      <td>0</td>\n",
       "      <td>0</td>\n",
       "      <td>0</td>\n",
       "      <td>0</td>\n",
       "      <td>10x16</td>\n",
       "      <td>A</td>\n",
       "    </tr>\n",
       "    <tr>\n",
       "      <th>4</th>\n",
       "      <td>0</td>\n",
       "      <td>0</td>\n",
       "      <td>0</td>\n",
       "      <td>0</td>\n",
       "      <td>0</td>\n",
       "      <td>0</td>\n",
       "      <td>0</td>\n",
       "      <td>0</td>\n",
       "      <td>0</td>\n",
       "      <td>0</td>\n",
       "      <td>...</td>\n",
       "      <td>0</td>\n",
       "      <td>0</td>\n",
       "      <td>0</td>\n",
       "      <td>0</td>\n",
       "      <td>0</td>\n",
       "      <td>0</td>\n",
       "      <td>0</td>\n",
       "      <td>0</td>\n",
       "      <td>10x17</td>\n",
       "      <td>A</td>\n",
       "    </tr>\n",
       "  </tbody>\n",
       "</table>\n",
       "<p>5 rows × 18509 columns</p>\n",
       "</div>"
      ],
      "text/plain": [
       "   PRSS42  TAGLN  CRTAC1  RDH11  FGG  CCNF  CXCR6  GATAD1  PRMT2  OR5K4  ...  \\\n",
       "0       0      2       0      0    0     0      0       1      0      0  ...   \n",
       "1       0      2       0      0    0     0      0       0      0      0  ...   \n",
       "2       0      0       0      0    0     0      0       0      3      0  ...   \n",
       "3       0      1       0      0    0     0      0       0      0      0  ...   \n",
       "4       0      0       0      0    0     0      0       0      0      0  ...   \n",
       "\n",
       "   RBMXL3  SYCP3  ALB  NME6  OTULIN  TCTE3  ADGRF3  EIF5AL1  Unnamed: 0.1  \\\n",
       "0       0      0    0     0       0      0       0        0         10x13   \n",
       "1       0      1    0     0       0      0       0        0         10x14   \n",
       "2       0      0    0     0       0      0       0        0         10x15   \n",
       "3       0      0    0     0       0      0       0        0         10x16   \n",
       "4       0      0    0     0       0      0       0        0         10x17   \n",
       "\n",
       "   patient  \n",
       "0        A  \n",
       "1        A  \n",
       "2        A  \n",
       "3        A  \n",
       "4        A  \n",
       "\n",
       "[5 rows x 18509 columns]"
      ]
     },
     "execution_count": 13,
     "metadata": {},
     "output_type": "execute_result"
    }
   ],
   "source": [
    "df_filtered.head()"
   ]
  }
 ],
 "metadata": {
  "kernelspec": {
   "display_name": "Python 3",
   "language": "python",
   "name": "python3"
  },
  "language_info": {
   "codemirror_mode": {
    "name": "ipython",
    "version": 3
   },
   "file_extension": ".py",
   "mimetype": "text/x-python",
   "name": "python",
   "nbconvert_exporter": "python",
   "pygments_lexer": "ipython3",
   "version": "3.8.19"
  }
 },
 "nbformat": 4,
 "nbformat_minor": 5
}
